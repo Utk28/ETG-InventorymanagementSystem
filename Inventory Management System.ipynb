{
 "cells": [
  {
   "cell_type": "code",
   "execution_count": 3,
   "id": "45715035",
   "metadata": {},
   "outputs": [],
   "source": [
    "records={\"01\":{\"name\":\"KitKat\", \"category\":\"Chocholate\",\"price\": \"20\",\"quantity\":\"63\"},\n",
    "\"02\":{\"name\":\"tshirt\", \"category\":\"Clothing\",\"price\": \"299\",\"quantity\":\"22\"},\n",
    "\"03\":{\"name\":\"shirt\", \"category\":\"Clothing\",\"price\": \"599\",\"quantity\":\"16\"},\n",
    "\"04\":{\"name\":\"trouser\", \"category\":\"Clothing\",\"price\": \"1299\",\"quantity\":\"12\"},\n",
    "\"05\":{\"name\":\"jeans\", \"category\":\"Clothing\",\"price\":\"999\",\"quantity\":\"13\"},\n",
    "\"06\":{\"name\":\"oudh-arab\", \"category\":\"fragrances\",\"price\": \"4999\",\"quantity\":\"3\"},\n",
    "\"07\":{\"name\":\"tie\", \"category\":\"accessories\",\"price\": \"299\",\"quantity\":\"23\"},\n",
    "\"08\":{\"name\":\"socks\", \"category\":\"accessories\",\"price\": \"99\",\"quantity\":\"33\"},\n",
    "\"09\":{\"name\":\"flipflops\", \"category\":\"footwear\",\"price\": \"999\",\"quantity\":\"13\"},\n",
    "\"10\":{\"name\":\"joggers\", \"category\":\"Clothing\",\"price\": \"999\",\"quantity\":\"10\"},\n",
    "\"11\":{\"name\":\"shorts\", \"category\":\"Clothing\",\"price\": \"999\",\"quantity\":\"20\"},\n",
    "\"12\":{\"name\":\"N95-mask\", \"category\":\"\",\"personal-care\": \"69\",\"quantity\":\"40\"},\n",
    "\"13\":{\"name\":\"facewash\", \"category\":\"grooming\",\"price\": \"599\",\"quantity\":\"13\"},\n",
    "\"14\":{\"name\":\"lipstick\", \"category\":\"grooming\",\"price\": \"249\",\"quantity\":\"35\"},\n",
    "\"15\":{\"name\":\"denim-joggers\", \"category\":\"clothing\",\"price\": \"1249\",\"quantity\":\"7\"},\n",
    "\"16\":{\"name\":\"hairgel\", \"category\":\"grooming\",\"price\": \"149\",\"quantity\":\"23\"},\n",
    "\"17\":{\"name\":\"beardwash\", \"category\":\"grooming\",\"price\": \"449\",\"quantity\":\"37\"},\n",
    "\"18\":{\"name\":\"kurta\", \"category\":\"clothing\",\"price\": \"699\",\"quantity\":\"17\"},\n",
    "\"19\":{\"name\":\"leatherbelt\", \"category\":\"accessories\",\"price\": \"249\",\"quantity\":\"13\"},\n",
    "\"20\":{\"name\":\"eyeliner\", \"category\":\"grooming\",\"price\": \"749\",\"quantity\":\"13\"},\n",
    "\"21\":{\"name\":\"handkerchief\", \"category\":\"accesories\",\"price\": \"249\",\"quantity\":\"9\"},\n",
    "\"22\":{\"name\":\"pocketsquare\", \"category\":\"accessories\",\"price\": \"249\",\"quantity\":\"18\"},\n",
    "\"23\":{\"name\":\"sneakers\", \"category\":\"footwear\",\"price\": \"3249\",\"quantity\":\"6\"},\n",
    "\"24\":{\"name\":\"sanitizer\", \"category\":\"personal-care\",\"price\": \"149\",\"quantity\":\"13\"},\n",
    "\"25\":{\"name\":\"5star\", \"category\":\"Chocholate\",\"price\": \"20\",\"quantity\":\"13\"},\n",
    "\"26\":{\"name\":\"dairymilk\", \"category\":\"Chocholate\",\"price\": \"20\",\"quantity\":\"18\"},\n",
    "\"27\":{\"name\":\"Saree\", \"category\":\"Clothing\",\"price\": \"2000\",\"quantity\":\"13\"},\n",
    "\"28\":{\"name\":\"typeC-cable\", \"category\":\"Electronics\",\"price\": \"399\",\"quantity\":\"16\"},\n",
    "\"29\":{\"name\":\"Headphones\", \"category\":\"Electronics\",\"price\": \"1500\",\"quantity\":\"23\"},\n",
    "\"30\":{\"name\":\"Smartwatch\", \"category\":\"Watch\",\"price\": \"2490\",\"quantity\":\"8\"}}"
   ]
  },
  {
   "cell_type": "code",
   "execution_count": null,
   "id": "760bd636",
   "metadata": {},
   "outputs": [],
   "source": [
    "import json\n",
    "import json\n",
    "js = json.dumps(records)\n",
    "fd = open('record1.json','w')\n",
    "fd.write(js)\n",
    "fd.close()"
   ]
  },
  {
   "cell_type": "markdown",
   "id": "0784ac63",
   "metadata": {},
   "source": [
    "# adding new products"
   ]
  },
  {
   "cell_type": "code",
   "execution_count": null,
   "id": "b5a766f0",
   "metadata": {},
   "outputs": [],
   "source": [
    "count = 1\n",
    "while True:\n",
    "    prod_id = str(input(\"enter the product id \"))\n",
    "    prod_name = str(input(\"enter the product name \"))\n",
    "    prod_category = str(input(\"enter the product category \"))\n",
    "    prod_qunatity = int(input(\"enter the product qunatity \"))\n",
    "    prod_price = int(input(\"enter the product price \"))\n",
    "    purchase_date = str(input(\"enter the purchase date \"))\n",
    "  \n",
    "    if(prod_id in records.keys()):\n",
    "        print(\"\\033[1m\" + \"Product Id is already Exist\")\n",
    "        print(\"\\033[1m\" + \"Enter New Product with new Product Id\")\n",
    "        break\n",
    "    else:\n",
    "        records[prod_id] = {'prod_name':prod_name,'prod_category':prod_category,'prod_qunatity':prod_qunatity,'prod_price':prod_price,'purchase_date'\n",
    "                         :purchase_date}\n",
    "        print(\"Enter 'yes' for Adding New product or Enter 'quit' anytime to exit:\")\n",
    "        count += 1\n",
    "        new_pro = input()\n",
    "        if new_pro == \"quit\":\n",
    "            break"
   ]
  },
  {
   "cell_type": "code",
   "execution_count": null,
   "id": "9013288e",
   "metadata": {},
   "outputs": [],
   "source": [
    "js = json.dumps(records)\n",
    "fd = open('record1.json','w')\n",
    "fd.write(js)\n",
    "fd.close()"
   ]
  },
  {
   "cell_type": "markdown",
   "id": "92b4bf66",
   "metadata": {},
   "source": [
    "# purchasing product"
   ]
  },
  {
   "cell_type": "code",
   "execution_count": null,
   "id": "58af9026",
   "metadata": {},
   "outputs": [],
   "source": [
    "count_in = 1\n",
    "prod_list = []\n",
    "sales = {}\n",
    "while True:\n",
    "    prod_id = str(input(\"enter the product id \"))\n",
    "    prod_qunat = int(input(\"enter the product qunatity \"))\n",
    "    sales[prod_id] = {'product':prod_id,'prod_qunat':prod_qunat,'amount':records[prod_id]['prod_price'] * prod_qunat}\n",
    "    prod_list.append(records[prod_id]['prod_name'])\n",
    "    prod_list.append(records[prod_id]['prod_price'])\n",
    "    prod_list.append(records[prod_id]['prod_price'] * prod_qunat)\n",
    "    if (records[prod_id]['prod_qunatity'] != 0):\n",
    "        records[prod_id]['prod_qunatity']  = records[prod_id]['prod_qunatity'] - prod_qunat\n",
    "    else:\n",
    "        print(\"Product is out of stock\")\n",
    "    print(\"Enter 'yes' for Purchase more product or Enter 'quit' anytime to exit:\")\n",
    "    count_in += 1\n",
    "    another_prod = input()\n",
    "    if another_prod == \"quit\":\n",
    "        break\n",
    "        \n",
    "print(\"List of purchased Item : \",prod_list)\n",
    "print(\"Sales : \",sales)"
   ]
  },
  {
   "cell_type": "code",
   "execution_count": null,
   "id": "2224812b",
   "metadata": {},
   "outputs": [],
   "source": [
    "js = json.dumps(records)\n",
    "fd = open('record.json','w')\n",
    "fd.write(js)\n",
    "fd.close()\n",
    "js = json.dumps(sales)\n",
    "fd = open('sales.json','w')\n",
    "fd.write(js)\n",
    "fd.close()"
   ]
  }
 ],
 "metadata": {
  "kernelspec": {
   "display_name": "Python 3",
   "language": "python",
   "name": "python3"
  },
  "language_info": {
   "codemirror_mode": {
    "name": "ipython",
    "version": 3
   },
   "file_extension": ".py",
   "mimetype": "text/x-python",
   "name": "python",
   "nbconvert_exporter": "python",
   "pygments_lexer": "ipython3",
   "version": "3.8.8"
  }
 },
 "nbformat": 4,
 "nbformat_minor": 5
}
